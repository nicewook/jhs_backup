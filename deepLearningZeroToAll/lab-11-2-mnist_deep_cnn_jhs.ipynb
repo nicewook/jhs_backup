{
 "cells": [
  {
   "cell_type": "markdown",
   "metadata": {},
   "source": [
    "김성훈 교수님 딥러닝 강의 11강 따라하기임\n",
    "\n",
    "1. 간단한 CNN 따라해보기\n",
    "2. dropout 실습\n",
    "3. 중간중간 확인 print\n",
    "4. 인식못한 set을 프린트해보자"
   ]
  },
  {
   "cell_type": "code",
   "execution_count": 1,
   "metadata": {
    "collapsed": false
   },
   "outputs": [],
   "source": [
    "import tensorflow as tf\n",
    "import random\n",
    "import matplotlib.pyplot as plt\n",
    "\n",
    "from tensorflow.examples.tutorials.mnist import input_data\n",
    "tf.set_random_seed(777)\n"
   ]
  },
  {
   "cell_type": "code",
   "execution_count": 2,
   "metadata": {
    "collapsed": false
   },
   "outputs": [
    {
     "name": "stdout",
     "output_type": "stream",
     "text": [
      "Extracting MNIST_data/train-images-idx3-ubyte.gz\n",
      "Extracting MNIST_data/train-labels-idx1-ubyte.gz\n",
      "Extracting MNIST_data/t10k-images-idx3-ubyte.gz\n",
      "Extracting MNIST_data/t10k-labels-idx1-ubyte.gz\n"
     ]
    }
   ],
   "source": [
    "mnist = input_data.read_data_sets(\"MNIST_data/\", one_hot=True)\n",
    "\n",
    "learning_rate = 0.001\n",
    "training_epochs = 15\n",
    "batch_size = 100\n"
   ]
  },
  {
   "cell_type": "code",
   "execution_count": 3,
   "metadata": {
    "collapsed": true
   },
   "outputs": [],
   "source": [
    "keep_prob = tf.placeholder(tf.float32)\n",
    "\n",
    "X = tf.placeholder(tf.float32, [None, 784])\n",
    "X_img = tf.reshape(X, [-1, 28, 28, 1])\n",
    "Y = tf.placeholder(tf.float32, [None, 10])"
   ]
  },
  {
   "cell_type": "code",
   "execution_count": 4,
   "metadata": {
    "collapsed": false
   },
   "outputs": [],
   "source": [
    "sess = tf.InteractiveSession()"
   ]
  },
  {
   "cell_type": "code",
   "execution_count": 5,
   "metadata": {
    "collapsed": false
   },
   "outputs": [
    {
     "name": "stdout",
     "output_type": "stream",
     "text": [
      "Tensor(\"Placeholder_1:0\", shape=(?, 784), dtype=float32)\n",
      "Tensor(\"Reshape:0\", shape=(?, 28, 28, 1), dtype=float32)\n",
      "Tensor(\"Placeholder_2:0\", shape=(?, 10), dtype=float32)\n"
     ]
    }
   ],
   "source": [
    "print(X)\n",
    "print(X_img)\n",
    "print(Y)"
   ]
  },
  {
   "cell_type": "code",
   "execution_count": 6,
   "metadata": {
    "collapsed": false
   },
   "outputs": [
    {
     "name": "stdout",
     "output_type": "stream",
     "text": [
      "Tensor(\"Conv2D:0\", shape=(?, 28, 28, 32), dtype=float32)\n",
      "Tensor(\"Relu:0\", shape=(?, 28, 28, 32), dtype=float32)\n",
      "Tensor(\"MaxPool:0\", shape=(?, 14, 14, 32), dtype=float32)\n",
      "Tensor(\"dropout/mul:0\", shape=(?, 14, 14, 32), dtype=float32)\n"
     ]
    }
   ],
   "source": [
    "W1 = tf.Variable(tf.random_normal([3, 3, 1, 32], stddev=0.01))\n",
    "\n",
    "L1 = tf.nn.conv2d(X_img, W1, strides=[1, 1, 1, 1], padding='SAME')\n",
    "print(L1)\n",
    "L1 = tf.nn.relu(L1)\n",
    "print(L1)\n",
    "L1 = tf.nn.max_pool(L1, ksize=[1, 2, 2, 1], strides=[1, 2, 2, 1], padding='SAME')\n",
    "#If padding == \"SAME\": output_spatial_shape[i] = ceil(input_spatial_shape[i] / strides[i])\n",
    "#if padding == \"VALID\": output_spatial_shape[i] = ceil((input_spatial_shape[i] - (spatial_filter_shape[i]-1) * dilation_rate[i]) / strides[i]).\n",
    "# ksize 1, 2, 2, 1은 각각 batch_size, 가로, 세로, 채널 이다. batch_size와 채널이 1인 것은 여러 batch, 여러 채널에서 \n",
    "# max를 땡겨오지 않겠다는 것\n",
    "\n",
    "print(L1)\n",
    "L1 = tf.nn.dropout(L1, keep_prob=keep_prob)\n",
    "print(L1)\n"
   ]
  },
  {
   "cell_type": "code",
   "execution_count": 7,
   "metadata": {
    "collapsed": false
   },
   "outputs": [
    {
     "name": "stdout",
     "output_type": "stream",
     "text": [
      "Tensor(\"Conv2D_1:0\", shape=(?, 14, 14, 64), dtype=float32)\n",
      "Tensor(\"Relu_1:0\", shape=(?, 14, 14, 64), dtype=float32)\n",
      "Tensor(\"MaxPool_1:0\", shape=(?, 7, 7, 64), dtype=float32)\n",
      "Tensor(\"dropout_1/mul:0\", shape=(?, 7, 7, 64), dtype=float32)\n"
     ]
    }
   ],
   "source": [
    "W2 = tf.Variable(tf.random_normal([3, 3, 32, 64], stddev=0.01))\n",
    "#    Conv      ->(?, 14, 14, 64)\n",
    "#    Pool      ->(?, 7, 7, 64)\n",
    "L2 = tf.nn.conv2d(L1, W2, strides=[1, 1, 1, 1], padding='SAME')\n",
    "print(L2)\n",
    "L2 = tf.nn.relu(L2)\n",
    "print(L2)\n",
    "L2 = tf.nn.max_pool(L2, ksize=[1, 2, 2, 1], strides=[1, 2, 2, 1], padding='SAME')\n",
    "print(L2)\n",
    "L2 = tf.nn.dropout(L2, keep_prob=keep_prob)\n",
    "print(L2)"
   ]
  },
  {
   "cell_type": "code",
   "execution_count": 8,
   "metadata": {
    "collapsed": false,
    "scrolled": true
   },
   "outputs": [
    {
     "name": "stdout",
     "output_type": "stream",
     "text": [
      "Tensor(\"dropout_2/mul:0\", shape=(?, 4, 4, 128), dtype=float32)\n",
      "Tensor(\"Reshape_1:0\", shape=(?, 2048), dtype=float32)\n"
     ]
    }
   ],
   "source": [
    "# L3 ImgIn shape=(?, 7, 7, 64)\n",
    "W3 = tf.Variable(tf.random_normal([3, 3, 64, 128], stddev=0.01))\n",
    "#    Conv      ->(?, 7, 7, 128)\n",
    "#    Pool      ->(?, 4, 4, 128)\n",
    "#    Reshape   ->(?, 4 * 4 * 128) # Flatten them for FC\n",
    "L3 = tf.nn.conv2d(L2, W3, strides=[1, 1, 1, 1], padding='SAME')\n",
    "L3 = tf.nn.relu(L3)\n",
    "L3 = tf.nn.max_pool(L3, ksize=[1, 2, 2, 1], strides=[1, 2, 2, 1], padding='SAME')\n",
    "L3 = tf.nn.dropout(L3, keep_prob=keep_prob)\n",
    "print(L3)\n",
    "L3 = tf.reshape(L3, [-1, 128 * 4 * 4])\n",
    "print(L3)\n"
   ]
  },
  {
   "cell_type": "code",
   "execution_count": 9,
   "metadata": {
    "collapsed": false
   },
   "outputs": [],
   "source": [
    "# get_variable()을 쓰려면 노트북에서는 매번 kernel을 새로 시작해줘야 한다 \n",
    "W4 = tf.get_variable(\"W4\", shape=[128 * 4 * 4, 625], initializer=tf.contrib.layers.xavier_initializer())\n",
    "#W4 = tf.Variable(tf.random_normal([128 * 4* 4, 625], stddev=0.01))\n",
    "b4 = tf.Variable(tf.random_normal([625]))\n",
    "L4 = tf.nn.relu(tf.matmul(L3, W4) + b4)\n",
    "L4 = tf.nn.dropout(L4, keep_prob=keep_prob)"
   ]
  },
  {
   "cell_type": "code",
   "execution_count": 10,
   "metadata": {
    "collapsed": false
   },
   "outputs": [],
   "source": [
    "# L5 Final FC 625 inputs -> 10 outputs\n",
    "W5 = tf.get_variable(\"W5\", shape=[625, 10],initializer=tf.contrib.layers.xavier_initializer())\n",
    "#W5 = tf.Variable(tf.random_normal([625, 10], stddev=0.01))\n",
    "b5 = tf.Variable(tf.random_normal([10]))\n",
    "hypothesis = tf.matmul(L4, W5) + b5"
   ]
  },
  {
   "cell_type": "code",
   "execution_count": 11,
   "metadata": {
    "collapsed": true
   },
   "outputs": [],
   "source": [
    "cost = tf.reduce_mean(tf.nn.softmax_cross_entropy_with_logits(logits=hypothesis, labels=Y))\n",
    "optimizer = tf.train.AdamOptimizer(learning_rate=learning_rate).minimize(cost)"
   ]
  },
  {
   "cell_type": "code",
   "execution_count": 12,
   "metadata": {
    "collapsed": true
   },
   "outputs": [],
   "source": [
    "sess.run(tf.global_variables_initializer())"
   ]
  },
  {
   "cell_type": "code",
   "execution_count": 13,
   "metadata": {
    "collapsed": false
   },
   "outputs": [
    {
     "name": "stdout",
     "output_type": "stream",
     "text": [
      "Epoch: 0001 cost = 0.406660359\n",
      "Epoch: 0002 cost = 0.094576670\n",
      "Epoch: 0003 cost = 0.070995473\n",
      "Epoch: 0004 cost = 0.059974426\n",
      "Epoch: 0005 cost = 0.050734864\n",
      "Epoch: 0006 cost = 0.046010858\n",
      "Epoch: 0007 cost = 0.041467375\n",
      "Epoch: 0008 cost = 0.038754041\n",
      "Epoch: 0009 cost = 0.034580565\n",
      "Epoch: 0010 cost = 0.032515565\n",
      "Epoch: 0011 cost = 0.030545096\n",
      "Epoch: 0012 cost = 0.028533454\n",
      "Epoch: 0013 cost = 0.028148472\n",
      "Epoch: 0014 cost = 0.026664905\n",
      "Epoch: 0015 cost = 0.024710917\n",
      "Learning Finished!\n"
     ]
    }
   ],
   "source": [
    "#train\n",
    "for epoch in range(training_epochs):\n",
    "    ave_cost = 0\n",
    "    total_batch = int(mnist.train.num_examples / batch_size)\n",
    "    \n",
    "    for i in range(total_batch):\n",
    "        batch_xs, batch_ys = mnist.train.next_batch(batch_size)\n",
    "        feed_dict =  {X: batch_xs, Y:batch_ys, keep_prob:0.7}\n",
    "        c, _ = sess.run([cost, optimizer], feed_dict=feed_dict)\n",
    "        ave_cost += c / total_batch  # total_batch 만큼 batch가 돌아가면서 반복해 cost를 계산하기에 이걸 total_batch 크기로 \n",
    "        \n",
    "    print('Epoch:', '%04d' % (epoch + 1), 'cost =', '{:.9f}'.format(ave_cost))\n",
    "print('Learning Finished!')"
   ]
  },
  {
   "cell_type": "code",
   "execution_count": 14,
   "metadata": {
    "collapsed": false
   },
   "outputs": [
    {
     "name": "stdout",
     "output_type": "stream",
     "text": [
      "(5000,) (5000,)\n",
      "(10000,) (10000,)\n",
      "Accuracy: 0.9906\n"
     ]
    }
   ],
   "source": [
    "# Test model and check accuracy\n",
    "Y_pred = tf.argmax(hypothesis, 1)\n",
    "Y_test = tf.argmax(Y, 1)\n",
    "\n",
    "correct_prediction = tf.equal(Y_pred, Y_test)\n",
    "accuracy = tf.reduce_mean(tf.cast(correct_prediction, tf.float32))\n",
    "\n",
    "# 10000개를 그냥 쓰면 메모리 넘친다. 아래는 5000개씩 둘로 나눠보았다\n",
    "#print('Accuracy:', sess.run(accuracy, feed_dict={X: mnist.test.images, Y: mnist.test.labels, keep_prob: 1}))\n",
    "pred_y1, accu_1 = sess.run([Y_pred, accuracy], feed_dict={X: mnist.test.images[0:5000], Y: mnist.test.labels[0:5000], keep_prob: 1})\n",
    "pred_y2, accu_2 = sess.run([Y_pred, accuracy], feed_dict={X: mnist.test.images[5000:10000], Y: mnist.test.labels[5000:10000], keep_prob: 1})\n",
    "print(pred_y1.shape, pred_y2.shape)\n",
    "\n",
    "# 이건 나중에 오류난것 뿌려주기 위해 작업한 것임\n",
    "pred_y_final = np.append(pred_y1, pred_y2)\n",
    "test_y_final = np.argmax(mnist.test.labels, 1)\n",
    "print(pred_y_final.shape, test_y_final.shape)\n",
    "\n",
    "print('Accuracy:', sess.run(accuracy, feed_dict={X: mnist.test.images[0:5000], Y: mnist.test.labels[0:5000], keep_prob: 1}))"
   ]
  },
  {
   "cell_type": "code",
   "execution_count": 15,
   "metadata": {
    "collapsed": false
   },
   "outputs": [
    {
     "name": "stdout",
     "output_type": "stream",
     "text": [
      "0.990999937057\n",
      "1.97999995947\n",
      "2.96899998188\n",
      "3.96299999952\n",
      "4.95299994946\n",
      "5.9509999752\n",
      "6.94800007343\n",
      "7.94800019264\n",
      "8.94300019741\n",
      "9.93800020218\n",
      "9.93800020218\n",
      "0.993800020218\n"
     ]
    }
   ],
   "source": [
    "# 메모리 overflow 대응 Prediction 버전\n",
    "accu_sum = 0\n",
    "\n",
    "for i in range(10):\n",
    "    index = i * 1000\n",
    "    accu_sum += sess.run(accuracy, feed_dict={X: mnist.test.images[index:index+1000], Y: mnist.test.labels[index:index+1000], keep_prob: 1})\n",
    "    print(accu_sum)\n",
    "    \n",
    "print(accu_sum)\n",
    "accu_sum = accu_sum / 10\n",
    "print(accu_sum)"
   ]
  },
  {
   "cell_type": "code",
   "execution_count": 16,
   "metadata": {
    "collapsed": true
   },
   "outputs": [],
   "source": [
    "# 예측 틀린걸 image로 보고 싶다"
   ]
  },
  {
   "cell_type": "code",
   "execution_count": 27,
   "metadata": {
    "collapsed": false
   },
   "outputs": [
    {
     "name": "stdout",
     "output_type": "stream",
     "text": [
      "[7 2 1 ..., 4 5 6] [7 2 1 ..., 4 5 6]\n",
      "62\n"
     ]
    },
    {
     "data": {
      "image/png": "[encoded data removed]",
      "text/plain": [
       "<matplotlib.figure.Figure at 0x4780b208>"
      ]
     },
     "metadata": {},
     "output_type": "display_data"
    }
   ],
   "source": [
    "# test set으로 예측한 라벨값과 정답값\n",
    "print(pred_y_final,test_y_final )\n",
    "\n",
    "result = (pred_y_final == test_y_final)\n",
    "\n",
    "wrong_examples = mnist.test.images[result==False]\n",
    "print(len(wrong_examples))\n",
    "\n",
    "pred_labels = pred_y_final[result==False]\n",
    "true_labels = test_y_final[result==False]\n",
    "\n",
    "def imshow(img, pred_label, true_labels, ax):\n",
    "    img = img.reshape(28, 28)\n",
    "    ax.imshow(img, cmap='gray')\n",
    "    #ax.set_title(f\"Pred: {pred_label} True: {true_labels}\")  # 파이썬 3.6부터는 이렇게도 된다\n",
    "    ax.set_title(\"Pred: {} True: {}\".format(pred_label, true_labels))\n",
    "    ax.axis(\"off\")\n",
    "\n",
    "fig, axes = plt.subplots(nrows=4, ncols=5, figsize=(15, 10))\n",
    "k = 0\n",
    "\n",
    "for i in range(4):\n",
    "    for j in range(5):\n",
    "        imshow(wrong_examples[k], pred_labels[k], true_labels[k], axes[i, j])\n",
    "        k += 1\n",
    "        if (k >= len(wrong_examples)):\n",
    "            break\n",
    "    if (k >= len(wrong_examples)):\n",
    "        break\n",
    "plt.show()"
   ]
  }
 ],
 "metadata": {
  "anaconda-cloud": {},
  "kernelspec": {
   "display_name": "Python [conda root]",
   "language": "python",
   "name": "conda-root-py"
  },
  "language_info": {
   "codemirror_mode": {
    "name": "ipython",
    "version": 3
   },
   "file_extension": ".py",
   "mimetype": "text/x-python",
   "name": "python",
   "nbconvert_exporter": "python",
   "pygments_lexer": "ipython3",
   "version": "3.5.2"
  }
 },
 "nbformat": 4,
 "nbformat_minor": 1
}
